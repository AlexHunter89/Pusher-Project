{
 "cells": [
  {
   "cell_type": "markdown",
   "metadata": {},
   "source": [
    "# Pusher Space Optimization Script\n",
    "\n",
    "## Overview\n",
    "\n",
    "This project is focused on optimizing the use of shelf space in retail environments, particularly where products are displayed using pusher fixtures. Pusher fixtures are designed to hold products in place on a shelf by latching onto a railing system. However, due to the fixed notches on the railing, pushers can only be moved in 0.5 cm increments, with a minimum spacing of 4.5 cm between them.\n",
    "\n",
    "This script converts product widths provided in inches to centimeters, adjusts them to the nearest fit based on the pusher spacing constraints, and calculates the space lost due to these constraints. The goal is to minimize wasted space on the shelf and ensure that products fit within the allotted space as efficiently as possible.\n",
    "\n",
    "The first thing, as usual, will be to import the libraries that are going to be used in our script."
   ]
  },
  {
   "cell_type": "code",
   "execution_count": 1,
   "metadata": {},
   "outputs": [],
   "source": [
    "import random\n",
    "import math\n",
    "import numpy as np"
   ]
  },
  {
   "cell_type": "markdown",
   "metadata": {},
   "source": [
    "First, I will create a list of random measurements to simulate what you might find on a planogram.\n",
    "For actual implementation, the planogram could be imported and iterated through.\n",
    "\n",
    "You could use the round() function and the random.uniform() function but I find the following code to be simpler.\n",
    "We will first initialize an empty list. Next, we'll use a range of your choosing to generate a list of random\n",
    "numbers between 100 and 999. To obtain the floating-point numbers needed to simulate measurements on a planogram,\n",
    "such as 2.34 or 6.82, we will simply divide the numbers by 100."
   ]
  },
  {
   "cell_type": "code",
   "execution_count": 2,
   "metadata": {},
   "outputs": [],
   "source": [
    "measurements_list = []\n",
    "\n",
    "for i in range(50):\n",
    "    random_number = random.randint(100, 1000)\n",
    "    random_float = random_number / 100\n",
    "    measurements_list.append(random_float)"
   ]
  },
  {
   "cell_type": "markdown",
   "metadata": {},
   "source": [
    "Next, we will convert all the measurements in the list to centimeters. This is necessary because the fixture that\n",
    "holds and locks the pushers into place only has increments of 0.5 centimeters. Therefore, we need to know the\n",
    "product's width in centimeters."
   ]
  },
  {
   "cell_type": "code",
   "execution_count": 3,
   "metadata": {},
   "outputs": [],
   "source": [
    "converted_measurements = []\n",
    "\n",
    "for measurement in measurements_list:\n",
    "    centimeters = measurement * 2.54\n",
    "    converted_measurements.append(centimeters)"
   ]
  },
  {
   "cell_type": "markdown",
   "metadata": {},
   "source": [
    "Next, we need to round every number up to its closest 0.5. For example, the number 3.24 should round up to only 3.5.\n",
    "A number like 4.74 should be rounded up to 5. This accounts for the increments of the pusher fixture and its\n",
    "limiting nature."
   ]
  },
  {
   "cell_type": "code",
   "execution_count": 4,
   "metadata": {},
   "outputs": [],
   "source": [
    "rounded_measurements = []\n",
    "\n",
    "for measurement in converted_measurements:\n",
    "    rounded_number = math.ceil(measurement * 4) / 4\n",
    "    rounded_measurements.append(rounded_number)"
   ]
  },
  {
   "cell_type": "markdown",
   "metadata": {},
   "source": [
    "We need to account for the minimum space allowed for pushers. When placing them next to each other\n",
    "the smallest width possible is 4.5 centimeters\n"
   ]
  },
  {
   "cell_type": "code",
   "execution_count": 5,
   "metadata": {},
   "outputs": [],
   "source": [
    "for measurement in rounded_measurements:\n",
    "    if measurement < 4.5:\n",
    "        index = rounded_measurements.index(measurement)\n",
    "        rounded_measurements[index] = 4.5"
   ]
  },
  {
   "cell_type": "markdown",
   "metadata": {},
   "source": [
    "Finally, we can simply convert the measurements back into inches for the ease of use."
   ]
  },
  {
   "cell_type": "code",
   "execution_count": 6,
   "metadata": {},
   "outputs": [],
   "source": [
    "final_measurements = []\n",
    "\n",
    "for measurement in rounded_measurements:\n",
    "    inches = measurement / 2.54\n",
    "    inches = round(inches, 2)\n",
    "    final_measurements.append(inches)"
   ]
  },
  {
   "cell_type": "markdown",
   "metadata": {},
   "source": [
    "Let's take a look at the differences between each old measurement and each new one."
   ]
  },
  {
   "cell_type": "code",
   "execution_count": 7,
   "metadata": {},
   "outputs": [],
   "source": [
    "differences_list = []\n",
    "\n",
    "for x in measurements_list:\n",
    "    index = measurements_list.index(x)\n",
    "    difference = final_measurements[index] - measurements_list[index]\n",
    "    difference = round(difference, 2)\n",
    "    differences_list.append(difference)"
   ]
  },
  {
   "cell_type": "markdown",
   "metadata": {},
   "source": [
    "Let's zip the list just to compare the measurements."
   ]
  },
  {
   "cell_type": "code",
   "execution_count": 8,
   "metadata": {},
   "outputs": [],
   "source": [
    "zipped_list = zip(measurements_list, final_measurements, differences_list)\n",
    "zipped_list = list(zipped_list)"
   ]
  },
  {
   "cell_type": "markdown",
   "metadata": {},
   "source": [
    "## The final results\n",
    "\n",
    "Let's take a look at the total width for each list."
   ]
  },
  {
   "cell_type": "code",
   "execution_count": 9,
   "metadata": {},
   "outputs": [
    {
     "name": "stdout",
     "output_type": "stream",
     "text": [
      "(8.13, 8.17, 0.04)\n",
      "(7.74, 7.78, 0.04)\n",
      "(1.16, 1.77, 0.61)\n",
      "(9.46, 9.55, 0.09)\n",
      "(7.07, 7.09, 0.02)\n",
      "(6.17, 6.2, 0.03)\n",
      "(9.23, 9.25, 0.02)\n",
      "(9.91, 9.94, 0.03)\n",
      "(7.59, 7.68, 0.09)\n",
      "(4.75, 4.82, 0.07)\n",
      "(8.0, 8.07, 0.07)\n",
      "(9.31, 9.35, 0.04)\n",
      "(7.55, 7.58, 0.03)\n",
      "(8.38, 8.46, 0.08)\n",
      "(1.99, 2.07, 0.08)\n",
      "(5.09, 5.12, 0.03)\n",
      "(2.21, 2.26, 0.05)\n",
      "(6.02, 6.1, 0.08)\n",
      "(6.31, 6.4, 0.09)\n",
      "(4.32, 4.33, 0.01)\n",
      "(2.63, 2.66, 0.03)\n",
      "(3.86, 3.94, 0.08)\n",
      "(6.72, 6.79, 0.07)\n",
      "(9.81, 9.84, 0.03)\n",
      "(3.47, 3.54, 0.07)\n",
      "(9.41, 9.45, 0.04)\n",
      "(8.95, 8.96, 0.01)\n",
      "(8.69, 8.76, 0.07)\n",
      "(9.66, 9.74, 0.08)\n",
      "(5.0, 5.02, 0.02)\n",
      "(3.52, 3.54, 0.02)\n",
      "(8.74, 8.76, 0.02)\n",
      "(7.78, 7.87, 0.09)\n",
      "(3.22, 3.25, 0.03)\n",
      "(8.91, 8.96, 0.05)\n",
      "(9.2, 9.25, 0.05)\n",
      "(7.03, 7.09, 0.06)\n",
      "(6.69, 6.69, 0.0)\n",
      "(4.46, 4.53, 0.07)\n",
      "(6.83, 6.89, 0.06)\n",
      "(3.48, 3.54, 0.06)\n",
      "(3.09, 3.15, 0.06)\n",
      "(5.33, 5.41, 0.08)\n",
      "(4.66, 4.72, 0.06)\n",
      "(4.98, 5.02, 0.04)\n",
      "(5.14, 5.22, 0.08)\n",
      "(6.69, 6.69, 0.0)\n",
      "(7.37, 7.38, 0.01)\n",
      "(2.85, 2.85, 0.0)\n",
      "(1.13, 1.77, 0.64)\n",
      "\n",
      "The original measurements total up to 309.69 inches.\n",
      "The new measurements total up to 313.27 inches.\n",
      "With pushers, you will need an additional 3.58 inches of space to fit all of the products.\n",
      "The biggest loss for a single product in terms of space is 0.64 inches.\n",
      "The average loss per product in terms of space is 0.07 inches.\n",
      "\n"
     ]
    }
   ],
   "source": [
    "original_measurements_total = round(sum(measurements_list), 2)\n",
    "new_measurements_total = round(sum(final_measurements), 2)\n",
    "width_lost = new_measurements_total - original_measurements_total\n",
    "width_lost = round(width_lost, 2)\n",
    "differences_max = max(differences_list)\n",
    "differences_average = round(np.mean(differences_list), 2)\n",
    "message = f\"\"\"\n",
    "The original measurements total up to {original_measurements_total} inches.\n",
    "The new measurements total up to {new_measurements_total} inches.\n",
    "With pushers, you will need an additional {width_lost} inches of space to fit all of the products.\n",
    "The biggest loss for a single product in terms of space is {differences_max} inches.\n",
    "The average loss per product in terms of space is {differences_average} inches.\n",
    "\"\"\"\n",
    "\n",
    "for i in zipped_list:\n",
    "    print(i)\n",
    "print(message)"
   ]
  }
 ],
 "metadata": {
  "kernelspec": {
   "display_name": ".venv",
   "language": "python",
   "name": "python3"
  },
  "language_info": {
   "codemirror_mode": {
    "name": "ipython",
    "version": 3
   },
   "file_extension": ".py",
   "mimetype": "text/x-python",
   "name": "python",
   "nbconvert_exporter": "python",
   "pygments_lexer": "ipython3",
   "version": "3.12.4"
  }
 },
 "nbformat": 4,
 "nbformat_minor": 2
}
