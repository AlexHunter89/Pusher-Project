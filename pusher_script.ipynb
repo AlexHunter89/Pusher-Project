{
 "cells": [
  {
   "cell_type": "markdown",
   "metadata": {},
   "source": [
    "# Pusher Space Optimization Script\n",
    "\n",
    "## Overview\n",
    "\n",
    "This project is focused on optimizing the use of shelf space in retail environments, particularly where products are displayed using pusher fixtures. Pusher fixtures are designed to hold products in place on a shelf by latching onto a railing system. However, due to the fixed notches on the railing, pushers can only be moved in 0.5 cm increments, with a minimum spacing of 4.5 cm between them.\n",
    "\n",
    "This script converts product widths provided in inches to centimeters, adjusts them to the nearest fit based on the pusher spacing constraints, and calculates the space lost due to these constraints. The goal is to minimize wasted space on the shelf and ensure that products fit within the allotted space as efficiently as possible.\n",
    "\n",
    "The first thing, as usual, will be to import the libraries that are going to be used in our script."
   ]
  },
  {
   "cell_type": "code",
   "execution_count": 1,
   "metadata": {},
   "outputs": [],
   "source": [
    "import random\n",
    "import math\n",
    "import numpy as np"
   ]
  },
  {
   "cell_type": "markdown",
   "metadata": {},
   "source": [
    "First, I will create a list of random measurements to simulate what you might find on a planogram.\n",
    "For actual implementation, the planogram could be imported and iterated through.\n",
    "\n",
    "You could use the round() function and the random.uniform() function but I find the following code to be simpler.\n",
    "We will first initialize an empty list. Next, we'll use a range of your choosing to generate a list of random\n",
    "numbers between 100 and 999. To obtain the floating-point numbers needed to simulate measurements on a planogram,\n",
    "such as 2.34 or 6.82, we will simply divide the numbers by 100."
   ]
  },
  {
   "cell_type": "code",
   "execution_count": 2,
   "metadata": {},
   "outputs": [],
   "source": [
    "measurements_list = []\n",
    "\n",
    "for i in range(50):\n",
    "    random_number = random.randint(100, 1000)\n",
    "    random_float = random_number / 100\n",
    "    measurements_list.append(random_float)"
   ]
  },
  {
   "cell_type": "markdown",
   "metadata": {},
   "source": [
    "Next, we will convert all the measurements in the list to centimeters. This is necessary because the fixture that\n",
    "holds and locks the pushers into place only has increments of 0.5 centimeters. Therefore, we need to know the\n",
    "product's width in centimeters."
   ]
  },
  {
   "cell_type": "code",
   "execution_count": 3,
   "metadata": {},
   "outputs": [],
   "source": [
    "converted_measurements = []\n",
    "\n",
    "for measurement in measurements_list:\n",
    "    centimeters = measurement * 2.54\n",
    "    converted_measurements.append(centimeters)"
   ]
  },
  {
   "cell_type": "markdown",
   "metadata": {},
   "source": [
    "Next, we need to round every number up to its closest 0.5. For example, the number 3.24 should round up to only 3.5.\n",
    "A number like 4.74 should be rounded up to 5. This accounts for the increments of the pusher fixture and its\n",
    "limiting nature."
   ]
  },
  {
   "cell_type": "code",
   "execution_count": 4,
   "metadata": {},
   "outputs": [],
   "source": [
    "rounded_measurements = []\n",
    "\n",
    "for measurement in converted_measurements:\n",
    "    rounded_number = math.ceil(measurement * 4) / 4\n",
    "    rounded_measurements.append(rounded_number)"
   ]
  },
  {
   "cell_type": "markdown",
   "metadata": {},
   "source": [
    "We need to account for the minimum space allowed for pushers. When placing them next to each other\n",
    "the smallest width possible is 4.5 centimeters\n"
   ]
  },
  {
   "cell_type": "code",
   "execution_count": 5,
   "metadata": {},
   "outputs": [],
   "source": [
    "for measurement in rounded_measurements:\n",
    "    if measurement < 4.5:\n",
    "        index = rounded_measurements.index(measurement)\n",
    "        rounded_measurements[index] = 4.5"
   ]
  },
  {
   "cell_type": "markdown",
   "metadata": {},
   "source": [
    "Finally, we can simply convert the measurements back into inches for the ease of use."
   ]
  },
  {
   "cell_type": "code",
   "execution_count": 6,
   "metadata": {},
   "outputs": [],
   "source": [
    "final_measurements = []\n",
    "\n",
    "for measurement in rounded_measurements:\n",
    "    inches = measurement / 2.54\n",
    "    inches = round(inches, 2)\n",
    "    final_measurements.append(inches)"
   ]
  },
  {
   "cell_type": "markdown",
   "metadata": {},
   "source": [
    "Let's take a look at the differences between each old measurement and each new one."
   ]
  },
  {
   "cell_type": "code",
   "execution_count": 7,
   "metadata": {},
   "outputs": [],
   "source": [
    "differences_list = []\n",
    "\n",
    "for x in measurements_list:\n",
    "    index = measurements_list.index(x)\n",
    "    difference = final_measurements[index] - measurements_list[index]\n",
    "    difference = round(difference, 2)\n",
    "    differences_list.append(difference)"
   ]
  },
  {
   "cell_type": "markdown",
   "metadata": {},
   "source": [
    "Let's zip the list just to compare the measurements."
   ]
  },
  {
   "cell_type": "code",
   "execution_count": 8,
   "metadata": {},
   "outputs": [],
   "source": [
    "zipped_list = zip(measurements_list, final_measurements, differences_list)\n",
    "zipped_list = list(zipped_list)"
   ]
  },
  {
   "cell_type": "markdown",
   "metadata": {},
   "source": [
    "## The final results\n",
    "\n",
    "Let's take a look at the total width for each list."
   ]
  },
  {
   "cell_type": "code",
   "execution_count": 9,
   "metadata": {},
   "outputs": [
    {
     "name": "stdout",
     "output_type": "stream",
     "text": [
      "(3.48, 3.54, 0.06)\n",
      "(4.44, 4.53, 0.09)\n",
      "(8.57, 8.66, 0.09)\n",
      "(1.98, 2.07, 0.09)\n",
      "(3.36, 3.44, 0.08)\n",
      "(9.02, 9.06, 0.04)\n",
      "(7.92, 7.97, 0.05)\n",
      "(5.46, 5.51, 0.05)\n",
      "(3.02, 3.05, 0.03)\n",
      "(8.57, 8.66, 0.09)\n",
      "(2.62, 2.66, 0.04)\n",
      "(2.93, 2.95, 0.02)\n",
      "(4.07, 4.13, 0.06)\n",
      "(5.85, 5.91, 0.06)\n",
      "(2.12, 2.17, 0.05)\n",
      "(9.36, 9.45, 0.09)\n",
      "(2.96, 3.05, 0.09)\n",
      "(9.27, 9.35, 0.08)\n",
      "(8.81, 8.86, 0.05)\n",
      "(8.72, 8.76, 0.04)\n",
      "(9.32, 9.35, 0.03)\n",
      "(4.49, 4.53, 0.04)\n",
      "(8.45, 8.46, 0.01)\n",
      "(5.86, 5.91, 0.05)\n",
      "(5.36, 5.41, 0.05)\n",
      "(9.81, 9.84, 0.03)\n",
      "(3.41, 3.44, 0.03)\n",
      "(4.95, 5.02, 0.07)\n",
      "(3.77, 3.84, 0.07)\n",
      "(7.05, 7.09, 0.04)\n",
      "(1.16, 1.77, 0.61)\n",
      "(6.63, 6.69, 0.06)\n",
      "(8.83, 8.86, 0.03)\n",
      "(7.71, 7.78, 0.07)\n",
      "(1.52, 1.77, 0.25)\n",
      "(9.99, 10.04, 0.05)\n",
      "(1.93, 1.97, 0.04)\n",
      "(4.34, 4.43, 0.09)\n",
      "(6.82, 6.89, 0.07)\n",
      "(5.48, 5.51, 0.03)\n",
      "(3.32, 3.35, 0.03)\n",
      "(9.91, 9.94, 0.03)\n",
      "(1.51, 1.77, 0.26)\n",
      "(5.04, 5.12, 0.08)\n",
      "(2.78, 2.85, 0.07)\n",
      "(8.23, 8.27, 0.04)\n",
      "(2.91, 2.95, 0.04)\n",
      "(1.49, 1.77, 0.28)\n",
      "(4.98, 5.02, 0.04)\n",
      "(6.58, 6.59, 0.01)\n",
      "\n",
      "The original measurements total up to 276.16 inches.\n",
      "The new measurements total up to 280.01 inches.\n",
      "With pushers, you will need an additional 3.85 inches of space to fit all of the products.\n",
      "The biggest loss for a single product in terms of space is 0.61 inches.\n",
      "The average loss per product in terms of space is 0.08 inches.\n",
      "\n"
     ]
    }
   ],
   "source": [
    "original_measurements_total = round(sum(measurements_list), 2)\n",
    "new_measurements_total = round(sum(final_measurements), 2)\n",
    "width_lost = new_measurements_total - original_measurements_total\n",
    "width_lost = round(width_lost, 2)\n",
    "differences_max = max(differences_list)\n",
    "differences_average = round(np.mean(differences_list), 2)\n",
    "message = f\"\"\"\n",
    "The original measurements total up to {original_measurements_total} inches.\n",
    "The new measurements total up to {new_measurements_total} inches.\n",
    "With pushers, you will need an additional {width_lost} inches of space to fit all of the products.\n",
    "The biggest loss for a single product in terms of space is {differences_max} inches.\n",
    "The average loss per product in terms of space is {differences_average} inches.\n",
    "\"\"\"\n",
    "\n",
    "for i in zipped_list:\n",
    "    print(i)\n",
    "print(message)"
   ]
  }
 ],
 "metadata": {
  "kernelspec": {
   "display_name": ".venv",
   "language": "python",
   "name": "python3"
  },
  "language_info": {
   "codemirror_mode": {
    "name": "ipython",
    "version": 3
   },
   "file_extension": ".py",
   "mimetype": "text/x-python",
   "name": "python",
   "nbconvert_exporter": "python",
   "pygments_lexer": "ipython3",
   "version": "3.12.4"
  }
 },
 "nbformat": 4,
 "nbformat_minor": 2
}
